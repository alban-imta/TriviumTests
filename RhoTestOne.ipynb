{
 "cells": [
  {
   "cell_type": "code",
   "execution_count": 5,
   "metadata": {
    "collapsed": true
   },
   "outputs": [],
   "source": [
    "import numpy as np\n",
    "from tqdm import tqdm"
   ]
  },
  {
   "cell_type": "code",
   "execution_count": 6,
   "outputs": [],
   "source": [
    "\n",
    "def print_hi(name):\n",
    "    # Use a breakpoint in the code line below to debug your script.\n",
    "    print(f'Hi, {name}')  # Press ⌘F8 to toggle the breakpoint."
   ],
   "metadata": {
    "collapsed": false,
    "pycharm": {
     "name": "#%%\n"
    }
   }
  },
  {
   "cell_type": "code",
   "execution_count": 7,
   "outputs": [
    {
     "name": "stdout",
     "output_type": "stream",
     "text": [
      "Hi, PyCharm\n"
     ]
    }
   ],
   "source": [
    "print_hi('PyCharm')"
   ],
   "metadata": {
    "collapsed": false,
    "pycharm": {
     "name": "#%%\n"
    }
   }
  },
  {
   "cell_type": "code",
   "execution_count": 8,
   "outputs": [
    {
     "name": "stdout",
     "output_type": "stream",
     "text": [
      "[0. 0. 0. 0. 0. 0. 0. 0. 0. 0. 0. 0. 0. 0. 0. 0. 0. 0. 0. 0. 0. 0. 0. 0.\n",
      " 0. 0. 0. 0. 0. 0. 0. 0. 0. 0. 0. 0. 0. 0. 0. 0. 0. 0. 0. 0. 0. 0. 0. 0.\n",
      " 0. 0. 0. 0. 0. 0. 0. 0. 0. 0. 0. 0. 0. 0. 0. 0. 0. 0. 0. 0. 0. 0. 0. 0.\n",
      " 0. 0. 0. 0. 0. 0. 0. 0. 0. 0. 0. 0. 0. 0. 0. 0. 0. 0. 0. 0. 0. 0. 0. 0.\n",
      " 0. 0. 0. 0. 0. 0. 0. 0. 0. 0. 0. 0. 0. 0. 0. 0. 0. 0. 0. 0. 0. 0. 0. 0.\n",
      " 0. 0. 0. 0. 0. 0. 0. 0. 0. 0. 0. 0. 0. 0. 0. 0. 0. 0. 0. 0. 0. 0. 0. 0.\n",
      " 0. 0. 0. 0. 0. 0. 0. 0. 0. 0. 0. 0. 0. 0. 0. 0. 0. 0. 0. 0. 0. 0. 0. 0.\n",
      " 0. 0. 0. 0. 0. 0. 0. 0. 0. 0. 0. 0. 0. 0. 0. 0. 0. 0. 0. 0. 0. 0. 0. 0.\n",
      " 0. 0. 0. 0. 0. 0. 0. 0. 0. 0. 0. 0. 0. 0. 0. 0. 0. 0. 0. 0. 0. 0. 0. 0.\n",
      " 0. 0. 0. 0. 0. 0. 0. 0. 0. 0. 0. 0. 0. 0. 0. 0. 0. 0. 0. 0. 0. 0. 0. 0.\n",
      " 0. 0. 0. 0. 0. 0. 0. 0. 0. 0. 0. 0. 0. 0. 0. 0. 0. 0. 0. 0. 0. 0. 0. 0.\n",
      " 0. 0. 0. 0. 0. 0. 0. 0. 0. 0. 0. 0. 0. 0. 0. 0. 0. 0. 0. 0. 0. 1. 1. 1.]\n"
     ]
    }
   ],
   "source": [
    "triv = np.zeros(288)\n",
    "triv[285] = 1\n",
    "triv[286] = 1\n",
    "triv[287] = 1\n",
    "#triv[66] = 2\n",
    "print(triv)"
   ],
   "metadata": {
    "collapsed": false,
    "pycharm": {
     "name": "#%%\n"
    }
   }
  },
  {
   "cell_type": "code",
   "execution_count": 9,
   "outputs": [],
   "source": [
    "def shift5(arr, num, fill_value=np.nan):\n",
    "    result = np.empty_like(arr)\n",
    "    if num > 0:\n",
    "        result[:num] = arr[-num:]\n",
    "        result[num:] = arr[:-num]\n",
    "    elif num < 0:\n",
    "        result[num:] = arr[:-num]\n",
    "        result[:num] = arr[-num:]\n",
    "    else:\n",
    "        result[:] = arr\n",
    "    return result\n",
    "\n",
    "# 0 contient rien\n",
    "# 1 contient constante\n",
    "# 2 contient Variable (et pas constante)\n",
    "# 3 contient both\n",
    "# a<=b\n",
    "def XORwithOneVariable(a,b):\n",
    "    if a==b : return 0\n",
    "    if a==0 : return b\n",
    "    if a==1 and b==2 : return 3\n",
    "    if a==1 and b==3 : return 2\n",
    "    if a==2 and b==3 : return 1\n",
    "    return np.NAN#should never arrived ERROR\n",
    "\n",
    "#only for 0 or 1.\n",
    "def triviumXORwithConstantOnly(a,b):\n",
    "    return (a+b)%2\n",
    "def triviumMULTconstantOnly(a,b):\n",
    "    return a*b\n",
    "\n",
    "#a<=b\n",
    "def triviumMULT_OneVariable(a,b):\n",
    "    if a==0 : return 0\n",
    "    if a==1 : return b\n",
    "    if a==2 and b==2 : return 2\n",
    "    if a==2 and b==3 : return 0\n",
    "    if a==3 : return 3\n",
    "    return a\n",
    "\n",
    "def triviumXOR(a,b):\n",
    "    if a<b : return triviumXORwithConstantOnly(a,b)\n",
    "    return triviumXORwithConstantOnly(b,a)\n",
    "def triviumMULT(a,b):\n",
    "    if a<b : return triviumMULTconstantOnly(a,b)\n",
    "    return triviumMULTconstantOnly(b,a)\n",
    "\n",
    "def triviumfunction(v,i,i1,i2):\n",
    "    v[i] = triviumXOR(v[i],v[i1])\n",
    "    v[i] = triviumXOR(v[i],v[i2])\n",
    "    v[i] = triviumXOR(v[i],triviumMULT(v[i-1],v[i-2]))\n",
    "    return v\n",
    "def triviumOneStep(v):\n",
    "    v = triviumfunction(v,92,65,170)\n",
    "    v = triviumfunction(v,176,161,263)\n",
    "    v = triviumfunction(v,287,242,68)\n",
    "    return shift5(v,1)\n",
    "def printTrivium(v):\n",
    "    s=\"\"\n",
    "    for x in v:\n",
    "        if x==1 :\n",
    "            s+= \"1\"\n",
    "        elif x==2 :\n",
    "            s+=\"2\"\n",
    "        elif x==3 :\n",
    "            s+=\"3\"\n",
    "        else :\n",
    "            s+=\".\"\n",
    "    print(s)"
   ],
   "metadata": {
    "collapsed": false,
    "pycharm": {
     "name": "#%%\n"
    }
   }
  },
  {
   "cell_type": "code",
   "execution_count": 9,
   "outputs": [],
   "source": [],
   "metadata": {
    "collapsed": false,
    "pycharm": {
     "name": "#%%\n"
    }
   }
  },
  {
   "cell_type": "code",
   "execution_count": 9,
   "outputs": [],
   "source": [],
   "metadata": {
    "collapsed": false,
    "pycharm": {
     "name": "#%%\n"
    }
   }
  },
  {
   "cell_type": "code",
   "execution_count": 10,
   "outputs": [
    {
     "name": "stdout",
     "output_type": "stream",
     "text": [
      "0 0 0 0\n",
      "0 1 0 1\n",
      "1 0 0 1\n",
      "1 1 1 0\n"
     ]
    }
   ],
   "source": [
    "for a in range(2):\n",
    "    for b in range(2):\n",
    "        print(a,b,triviumMULT(a,b),triviumXOR(a,b))"
   ],
   "metadata": {
    "collapsed": false,
    "pycharm": {
     "name": "#%%\n"
    }
   }
  },
  {
   "cell_type": "code",
   "execution_count": 12,
   "outputs": [],
   "source": [],
   "metadata": {
    "collapsed": false,
    "pycharm": {
     "name": "#%%\n"
    }
   }
  },
  {
   "cell_type": "code",
   "execution_count": 126,
   "outputs": [],
   "source": [],
   "metadata": {
    "collapsed": false,
    "pycharm": {
     "name": "#%%\n"
    }
   }
  },
  {
   "cell_type": "markdown",
   "source": [],
   "metadata": {
    "collapsed": false
   }
  },
  {
   "cell_type": "code",
   "execution_count": 9,
   "outputs": [
    {
     "name": "stdout",
     "output_type": "stream",
     "text": [
      "<class 'list'>\n",
      "[  0   0   0   0   0   0   0   0   0   0   0   0   0   0   0   0   0   0\n",
      "   0   0   0   0   0   0   0   0   0   0   0   0   0   0   0   0   0 224]\n"
     ]
    }
   ],
   "source": [
    "a = np.array([1,1,0])\n",
    "a = triv.astype(bool).tolist()\n",
    "print(type(a))\n",
    "b = np.packbits(a, bitorder='little')\n",
    "print(b)"
   ],
   "metadata": {
    "collapsed": false,
    "pycharm": {
     "name": "#%%\n"
    }
   }
  },
  {
   "cell_type": "code",
   "execution_count": 10,
   "outputs": [],
   "source": [
    "whereWasFoundTriv = np.zeros(shape=(2**8,2**8,2**8))"
   ],
   "metadata": {
    "collapsed": false,
    "pycharm": {
     "name": "#%%\n"
    }
   }
  },
  {
   "cell_type": "code",
   "execution_count": 36,
   "outputs": [],
   "source": [
    "def addTriviumFormulae(t,round):\n",
    "    x_=np.packbits(t.astype(bool).tolist())\n",
    "    c1_=-1\n",
    "    c2_=0\n",
    "    c3_=1\n",
    "    #if whereWasFoundTriv[x_[c1_],x_[c2_],x_[c3_]] >0:\n",
    "    #    print(\"found again ! previous: \",whereWasFoundTriv[x_[c1_],x_[c2_],x_[c3_]] ,\" current: \",round,\" trivium:\")\n",
    "    #    printTrivium(t)\n",
    "    delta_ = round - whereWasFoundTriv[x_[c1_],x_[c2_],x_[c3_]]\n",
    "    whereWasFoundTriv[x_[c1_],x_[c2_],x_[c3_]] = round\n",
    "    return max(delta_,-1)"
   ],
   "metadata": {
    "collapsed": false,
    "pycharm": {
     "name": "#%%\n"
    }
   }
  },
  {
   "cell_type": "code",
   "execution_count": 40,
   "outputs": [
    {
     "name": "stdout",
     "output_type": "stream",
     "text": [
      ".............................................................................................................................................................................................................................................................................................111\n",
      "---\n",
      "stable rotation at rank: 0  of size:  [0. 0. 0. 0.]\n",
      "stable rotation at rank: 23  of size:  [1. 1. 1. 1.]\n",
      "stable rotation at rank: 24  of size:  [1. 1. 1. 1.]\n",
      "stable rotation at rank: 25  of size:  [1. 1. 1. 1.]\n",
      "stable rotation at rank: 26  of size:  [1. 1. 1. 1.]\n",
      "stable rotation at rank: 27  of size:  [1. 1. 1. 1.]\n",
      "stable rotation at rank: 28  of size:  [1. 1. 1. 1.]\n",
      "stable rotation at rank: 29  of size:  [1. 1. 1. 1.]\n",
      "stable rotation at rank: 30  of size:  [1. 1. 1. 1.]\n",
      "stable rotation at rank: 31  of size:  [1. 1. 1. 1.]\n",
      "stable rotation at rank: 32  of size:  [1. 1. 1. 1.]\n",
      "stable rotation at rank: 33  of size:  [1. 1. 1. 1.]\n",
      "stable rotation at rank: 34  of size:  [1. 1. 1. 1.]\n",
      "stable rotation at rank: 35  of size:  [1. 1. 1. 1.]\n",
      "stable rotation at rank: 36  of size:  [1. 1. 1. 1.]\n",
      "stable rotation at rank: 37  of size:  [1. 1. 1. 1.]\n",
      "stable rotation at rank: 38  of size:  [1. 1. 1. 1.]\n",
      "stable rotation at rank: 39  of size:  [1. 1. 1. 1.]\n",
      "stable rotation at rank: 40  of size:  [1. 1. 1. 1.]\n",
      "stable rotation at rank: 41  of size:  [1. 1. 1. 1.]\n",
      "stable rotation at rank: 42  of size:  [1. 1. 1. 1.]\n",
      "stable rotation at rank: 43  of size:  [1. 1. 1. 1.]\n",
      "stable rotation at rank: 44  of size:  [1. 1. 1. 1.]\n",
      "stable rotation at rank: 45  of size:  [1. 1. 1. 1.]\n",
      "stable rotation at rank: 46  of size:  [1. 1. 1. 1.]\n",
      "stable rotation at rank: 47  of size:  [1. 1. 1. 1.]\n",
      "stable rotation at rank: 48  of size:  [1. 1. 1. 1.]\n",
      "stable rotation at rank: 49  of size:  [1. 1. 1. 1.]\n",
      "stable rotation at rank: 50  of size:  [1. 1. 1. 1.]\n",
      "stable rotation at rank: 51  of size:  [1. 1. 1. 1.]\n",
      "stable rotation at rank: 52  of size:  [1. 1. 1. 1.]\n",
      "stable rotation at rank: 53  of size:  [1. 1. 1. 1.]\n",
      "stable rotation at rank: 54  of size:  [1. 1. 1. 1.]\n",
      "stable rotation at rank: 55  of size:  [1. 1. 1. 1.]\n",
      "stable rotation at rank: 56  of size:  [1. 1. 1. 1.]\n",
      "stable rotation at rank: 57  of size:  [1. 1. 1. 1.]\n",
      "stable rotation at rank: 58  of size:  [1. 1. 1. 1.]\n",
      "stable rotation at rank: 59  of size:  [1. 1. 1. 1.]\n",
      "stable rotation at rank: 60  of size:  [1. 1. 1. 1.]\n",
      "stable rotation at rank: 61  of size:  [1. 1. 1. 1.]\n",
      "stable rotation at rank: 62  of size:  [1. 1. 1. 1.]\n",
      "stable rotation at rank: 63  of size:  [1. 1. 1. 1.]\n",
      "stable rotation at rank: 64  of size:  [1. 1. 1. 1.]\n",
      "stable rotation at rank: 65  of size:  [1. 1. 1. 1.]\n",
      "stable rotation at rank: 66  of size:  [1. 1. 1. 1.]\n",
      "stable rotation at rank: 67  of size:  [1. 1. 1. 1.]\n",
      "stable rotation at rank: 68  of size:  [1. 1. 1. 1.]\n",
      "stable rotation at rank: 69  of size:  [1. 1. 1. 1.]\n",
      "stable rotation at rank: 75  of size:  [69. 69. 69. 69.]\n",
      "stable rotation at rank: 76  of size:  [69. 69. 69. 69.]\n",
      "stable rotation at rank: 77  of size:  [69. 69. 69. 69.]\n",
      "stable rotation at rank: 78  of size:  [69. 69. 69. 69.]\n",
      "stable rotation at rank: 79  of size:  [69. 69. 69. 69.]\n",
      "stable rotation at rank: 80  of size:  [69. 69. 69. 69.]\n",
      "stable rotation at rank: 81  of size:  [69. 69. 69. 69.]\n",
      "stable rotation at rank: 82  of size:  [69. 69. 69. 69.]\n",
      "stable rotation at rank: 83  of size:  [69. 69. 69. 69.]\n",
      "stable rotation at rank: 84  of size:  [69. 69. 69. 69.]\n",
      "stable rotation at rank: 85  of size:  [69. 69. 69. 69.]\n",
      "stable rotation at rank: 86  of size:  [69. 69. 69. 69.]\n",
      "stable rotation at rank: 92  of size:  [1. 1. 1. 1.]\n",
      "stable rotation at rank: 93  of size:  [1. 1. 1. 1.]\n",
      "stable rotation at rank: 94  of size:  [1. 1. 1. 1.]\n",
      "stable rotation at rank: 95  of size:  [1. 1. 1. 1.]\n",
      "stable rotation at rank: 96  of size:  [1. 1. 1. 1.]\n",
      "stable rotation at rank: 97  of size:  [1. 1. 1. 1.]\n",
      "stable rotation at rank: 98  of size:  [1. 1. 1. 1.]\n",
      "stable rotation at rank: 99  of size:  [1. 1. 1. 1.]\n",
      "stable rotation at rank: 100  of size:  [1. 1. 1. 1.]\n",
      "stable rotation at rank: 101  of size:  [1. 1. 1. 1.]\n",
      "stable rotation at rank: 102  of size:  [1. 1. 1. 1.]\n",
      "stable rotation at rank: 103  of size:  [1. 1. 1. 1.]\n",
      "stable rotation at rank: 104  of size:  [1. 1. 1. 1.]\n",
      "stable rotation at rank: 105  of size:  [1. 1. 1. 1.]\n",
      "stable rotation at rank: 106  of size:  [1. 1. 1. 1.]\n",
      "stable rotation at rank: 107  of size:  [1. 1. 1. 1.]\n",
      "stable rotation at rank: 108  of size:  [1. 1. 1. 1.]\n",
      "stable rotation at rank: 109  of size:  [1. 1. 1. 1.]\n",
      "stable rotation at rank: 110  of size:  [1. 1. 1. 1.]\n",
      "stable rotation at rank: 111  of size:  [1. 1. 1. 1.]\n",
      "stable rotation at rank: 112  of size:  [1. 1. 1. 1.]\n",
      "stable rotation at rank: 113  of size:  [1. 1. 1. 1.]\n",
      "stable rotation at rank: 114  of size:  [1. 1. 1. 1.]\n",
      "stable rotation at rank: 115  of size:  [1. 1. 1. 1.]\n",
      "stable rotation at rank: 116  of size:  [1. 1. 1. 1.]\n",
      "stable rotation at rank: 117  of size:  [1. 1. 1. 1.]\n",
      "stable rotation at rank: 118  of size:  [1. 1. 1. 1.]\n",
      "stable rotation at rank: 119  of size:  [1. 1. 1. 1.]\n",
      "stable rotation at rank: 120  of size:  [1. 1. 1. 1.]\n",
      "stable rotation at rank: 121  of size:  [1. 1. 1. 1.]\n",
      "stable rotation at rank: 122  of size:  [1. 1. 1. 1.]\n",
      "stable rotation at rank: 123  of size:  [1. 1. 1. 1.]\n",
      "stable rotation at rank: 124  of size:  [1. 1. 1. 1.]\n",
      "stable rotation at rank: 125  of size:  [1. 1. 1. 1.]\n",
      "stable rotation at rank: 126  of size:  [1. 1. 1. 1.]\n",
      "stable rotation at rank: 127  of size:  [1. 1. 1. 1.]\n",
      "stable rotation at rank: 128  of size:  [1. 1. 1. 1.]\n",
      "stable rotation at rank: 129  of size:  [1. 1. 1. 1.]\n",
      "stable rotation at rank: 130  of size:  [1. 1. 1. 1.]\n",
      "stable rotation at rank: 131  of size:  [1. 1. 1. 1.]\n",
      "stable rotation at rank: 132  of size:  [1. 1. 1. 1.]\n",
      "stable rotation at rank: 133  of size:  [1. 1. 1. 1.]\n",
      "stable rotation at rank: 134  of size:  [1. 1. 1. 1.]\n",
      "stable rotation at rank: 135  of size:  [1. 1. 1. 1.]\n",
      "stable rotation at rank: 136  of size:  [1. 1. 1. 1.]\n",
      "stable rotation at rank: 137  of size:  [1. 1. 1. 1.]\n",
      "stable rotation at rank: 138  of size:  [1. 1. 1. 1.]\n",
      "stable rotation at rank: 143  of size:  [69. 69. 69. 69.]\n",
      "stable rotation at rank: 144  of size:  [69. 69. 69. 69.]\n",
      "stable rotation at rank: 145  of size:  [69. 69. 69. 69.]\n",
      "stable rotation at rank: 146  of size:  [69. 69. 69. 69.]\n",
      "stable rotation at rank: 147  of size:  [69. 69. 69. 69.]\n",
      "stable rotation at rank: 148  of size:  [69. 69. 69. 69.]\n",
      "stable rotation at rank: 149  of size:  [69. 69. 69. 69.]\n",
      "stable rotation at rank: 150  of size:  [69. 69. 69. 69.]\n",
      "stable rotation at rank: 151  of size:  [69. 69. 69. 69.]\n",
      "stable rotation at rank: 152  of size:  [69. 69. 69. 69.]\n",
      "stable rotation at rank: 153  of size:  [69. 69. 69. 69.]\n",
      "stable rotation at rank: 154  of size:  [69. 69. 69. 69.]\n",
      "stable rotation at rank: 155  of size:  [69. 69. 69. 69.]\n",
      "stable rotation at rank: 161  of size:  [1. 1. 1. 1.]\n",
      "stable rotation at rank: 162  of size:  [1. 1. 1. 1.]\n",
      "stable rotation at rank: 163  of size:  [1. 1. 1. 1.]\n",
      "stable rotation at rank: 164  of size:  [1. 1. 1. 1.]\n",
      "stable rotation at rank: 165  of size:  [1. 1. 1. 1.]\n",
      "stable rotation at rank: 166  of size:  [1. 1. 1. 1.]\n",
      "stable rotation at rank: 167  of size:  [1. 1. 1. 1.]\n",
      "stable rotation at rank: 168  of size:  [1. 1. 1. 1.]\n",
      "stable rotation at rank: 169  of size:  [1. 1. 1. 1.]\n",
      "stable rotation at rank: 170  of size:  [1. 1. 1. 1.]\n",
      "stable rotation at rank: 171  of size:  [1. 1. 1. 1.]\n",
      "stable rotation at rank: 172  of size:  [1. 1. 1. 1.]\n",
      "stable rotation at rank: 173  of size:  [1. 1. 1. 1.]\n",
      "stable rotation at rank: 174  of size:  [1. 1. 1. 1.]\n",
      "stable rotation at rank: 175  of size:  [1. 1. 1. 1.]\n",
      "stable rotation at rank: 176  of size:  [1. 1. 1. 1.]\n",
      "stable rotation at rank: 177  of size:  [1. 1. 1. 1.]\n",
      "stable rotation at rank: 178  of size:  [1. 1. 1. 1.]\n",
      "stable rotation at rank: 179  of size:  [1. 1. 1. 1.]\n",
      "stable rotation at rank: 180  of size:  [1. 1. 1. 1.]\n",
      "stable rotation at rank: 181  of size:  [1. 1. 1. 1.]\n",
      "stable rotation at rank: 182  of size:  [1. 1. 1. 1.]\n",
      "stable rotation at rank: 183  of size:  [1. 1. 1. 1.]\n",
      "stable rotation at rank: 184  of size:  [1. 1. 1. 1.]\n",
      "stable rotation at rank: 185  of size:  [1. 1. 1. 1.]\n",
      "stable rotation at rank: 186  of size:  [1. 1. 1. 1.]\n",
      "stable rotation at rank: 187  of size:  [1. 1. 1. 1.]\n",
      "stable rotation at rank: 188  of size:  [1. 1. 1. 1.]\n",
      "stable rotation at rank: 189  of size:  [1. 1. 1. 1.]\n",
      "stable rotation at rank: 190  of size:  [1. 1. 1. 1.]\n",
      "stable rotation at rank: 191  of size:  [1. 1. 1. 1.]\n",
      "stable rotation at rank: 192  of size:  [1. 1. 1. 1.]\n",
      "stable rotation at rank: 193  of size:  [1. 1. 1. 1.]\n",
      "stable rotation at rank: 194  of size:  [1. 1. 1. 1.]\n",
      "stable rotation at rank: 195  of size:  [1. 1. 1. 1.]\n",
      "stable rotation at rank: 196  of size:  [1. 1. 1. 1.]\n",
      "stable rotation at rank: 197  of size:  [1. 1. 1. 1.]\n",
      "stable rotation at rank: 198  of size:  [1. 1. 1. 1.]\n",
      "stable rotation at rank: 199  of size:  [1. 1. 1. 1.]\n",
      "stable rotation at rank: 200  of size:  [1. 1. 1. 1.]\n",
      "stable rotation at rank: 201  of size:  [1. 1. 1. 1.]\n",
      "stable rotation at rank: 206  of size:  [63. 63. 63. 63.]\n",
      "stable rotation at rank: 207  of size:  [63. 63. 63. 63.]\n",
      "stable rotation at rank: 58771  of size:  [55223. 55223. 55223. 55223.]\n",
      "stable rotation at rank: 124072  of size:  [35255. 35255. 35255. 35255.]\n",
      "stable rotation at rank: 170129  of size:  [34489. 34489. 34489. 34489.]\n",
      "stable rotation at rank: 170130  of size:  [34489. 34489. 34489. 34489.]\n",
      "stable rotation at rank: 181303  of size:  [53404. 53404. 53404. 53404.]\n",
      "stable rotation at rank: 181304  of size:  [53404. 53404. 53404. 53404.]\n",
      "stable rotation at rank: 187296  of size:  [49761. 49761. 49761. 49761.]\n",
      "stable rotation at rank: 216751  of size:  [84652. 84652. 84652. 84652.]\n",
      "stable rotation at rank: 216752  of size:  [84652. 84652. 84652. 84652.]\n",
      "stable rotation at rank: 240573  of size:  [223993. 223993. 223993. 223993.]\n",
      "stable rotation at rank: 253761  of size:  [70020. 70020. 70020. 70020.]\n",
      "stable rotation at rank: 253762  of size:  [70020. 70020. 70020. 70020.]\n",
      "stable rotation at rank: 272959  of size:  [205481. 205481. 205481. 205481.]\n",
      "stable rotation at rank: 272960  of size:  [205481. 205481. 205481. 205481.]\n",
      "stable rotation at rank: 273109  of size:  [86217. 86217. 86217. 86217.]\n",
      "stable rotation at rank: 273110  of size:  [86217. 86217. 86217. 86217.]\n",
      "stable rotation at rank: 279518  of size:  [145848. 145848. 145848. 145848.]\n",
      "stable rotation at rank: 279519  of size:  [145848. 145848. 145848. 145848.]\n",
      "stable rotation at rank: 281535  of size:  [125501. 125501. 125501. 125501.]\n",
      "stable rotation at rank: 289257  of size:  [254371. 254371. 254371. 254371.]\n",
      "stable rotation at rank: 289258  of size:  [254371. 254371. 254371. 254371.]\n",
      "stable rotation at rank: 294623  of size:  [129918. 129918. 129918. 129918.]\n",
      "stable rotation at rank: 317910  of size:  [110683. 110683. 110683. 110683.]\n",
      "stable rotation at rank: 367417  of size:  [216182. 216182. 216182. 216182.]\n",
      "stable rotation at rank: 380457  of size:  [233780. 233780. 233780. 233780.]\n",
      "stable rotation at rank: 392605  of size:  [181674. 181674. 181674. 181674.]\n",
      "stable rotation at rank: 392606  of size:  [181674. 181674. 181674. 181674.]\n",
      "stable rotation at rank: 419109  of size:  [316198. 316198. 316198. 316198.]\n",
      "stable rotation at rank: 423408  of size:  [99433. 99433. 99433. 99433.]\n",
      "stable rotation at rank: 429489  of size:  [57879. 57879. 57879. 57879.]\n",
      "stable rotation at rank: 429930  of size:  [158163. 158163. 158163. 158163.]\n",
      "stable rotation at rank: 439349  of size:  [109142. 109142. 109142. 109142.]\n",
      "stable rotation at rank: 439350  of size:  [109142. 109142. 109142. 109142.]\n",
      "stable rotation at rank: 443763  of size:  [231721. 231721. 231721. 231721.]\n",
      "stable rotation at rank: 468802  of size:  [453109. 453109. 453109. 453109.]\n",
      "stable rotation at rank: 470720  of size:  [196985. 196985. 196985. 196985.]\n",
      "stable rotation at rank: 526551  of size:  [487370. 487370. 487370. 487370.]\n",
      "stable rotation at rank: 540801  of size:  [231376. 231376. 231376. 231376.]\n",
      "stable rotation at rank: 551441  of size:  [60570. 60570. 60570. 60570.]\n",
      "stable rotation at rank: 567354  of size:  [430142. 430142. 430142. 430142.]\n",
      "stable rotation at rank: 587679  of size:  [188818. 188818. 188818. 188818.]\n",
      "stable rotation at rank: 587680  of size:  [188818. 188818. 188818. 188818.]\n",
      "stable rotation at rank: 592140  of size:  [207604. 207604. 207604. 207604.]\n",
      "stable rotation at rank: 601167  of size:  [111022. 111022. 111022. 111022.]\n",
      "stable rotation at rank: 620239  of size:  [610284. 610284. 610284. 610284.]\n",
      "stable rotation at rank: 647018  of size:  [553024. 553024. 553024. 553024.]\n",
      "stable rotation at rank: 649104  of size:  [580528. 580528. 580528. 580528.]\n",
      "stable rotation at rank: 671719  of size:  [581296. 581296. 581296. 581296.]\n",
      "stable rotation at rank: 696454  of size:  [126575. 126575. 126575. 126575.]\n",
      "stable rotation at rank: 710403  of size:  [227334. 227334. 227334. 227334.]\n",
      "stable rotation at rank: 712740  of size:  [40638. 40638. 40638. 40638.]\n",
      "stable rotation at rank: 714682  of size:  [380982. 380982. 380982. 380982.]\n",
      "stable rotation at rank: 715406  of size:  [354789. 354789. 354789. 354789.]\n",
      "stable rotation at rank: 715493  of size:  [712109. 712109. 712109. 712109.]\n",
      "stable rotation at rank: 716373  of size:  [671840. 671840. 671840. 671840.]\n",
      "stable rotation at rank: 716792  of size:  [61239. 61239. 61239. 61239.]\n",
      "stable rotation at rank: 724837  of size:  [277061. 277061. 277061. 277061.]\n",
      "stable rotation at rank: 725382  of size:  [232137. 232137. 232137. 232137.]\n",
      "stable rotation at rank: 731623  of size:  [58968. 58968. 58968. 58968.]\n",
      "stable rotation at rank: 735536  of size:  [96263. 96263. 96263. 96263.]\n",
      "stable rotation at rank: 735537  of size:  [96263. 96263. 96263. 96263.]\n",
      "stable rotation at rank: 741118  of size:  [720369. 720369. 720369. 720369.]\n",
      "stable rotation at rank: 749705  of size:  [229120. 229120. 229120. 229120.]\n",
      "stable rotation at rank: 770559  of size:  [278465. 278465. 278465. 278465.]\n",
      "stable rotation at rank: 779665  of size:  [489157. 489157. 489157. 489157.]\n",
      "stable rotation at rank: 779666  of size:  [489157. 489157. 489157. 489157.]\n",
      "stable rotation at rank: 779667  of size:  [489157. 489157. 489157. 489157.]\n",
      "stable rotation at rank: 780659  of size:  [530988. 530988. 530988. 530988.]\n",
      "stable rotation at rank: 781747  of size:  [115627. 115627. 115627. 115627.]\n",
      "stable rotation at rank: 781748  of size:  [115627. 115627. 115627. 115627.]\n",
      "stable rotation at rank: 791397  of size:  [98840. 98840. 98840. 98840.]\n",
      "stable rotation at rank: 801845  of size:  [404015. 404015. 404015. 404015.]\n",
      "stable rotation at rank: 804592  of size:  [674824. 674824. 674824. 674824.]\n",
      "stable rotation at rank: 804593  of size:  [674824. 674824. 674824. 674824.]\n",
      "stable rotation at rank: 813454  of size:  [622669. 622669. 622669. 622669.]\n",
      "stable rotation at rank: 813455  of size:  [622669. 622669. 622669. 622669.]\n",
      "stable rotation at rank: 826364  of size:  [117082. 117082. 117082. 117082.]\n",
      "stable rotation at rank: 831456  of size:  [423348. 423348. 423348. 423348.]\n",
      "stable rotation at rank: 849691  of size:  [438390. 438390. 438390. 438390.]\n",
      "stable rotation at rank: 855699  of size:  [152207. 152207. 152207. 152207.]\n",
      "stable rotation at rank: 870359  of size:  [138228. 138228. 138228. 138228.]\n",
      "stable rotation at rank: 887428  of size:  [710650. 710650. 710650. 710650.]\n",
      "stable rotation at rank: 894158  of size:  [701972. 701972. 701972. 701972.]\n",
      "stable rotation at rank: 894159  of size:  [701972. 701972. 701972. 701972.]\n",
      "stable rotation at rank: 906841  of size:  [427684. 427684. 427684. 427684.]\n",
      "stable rotation at rank: 907841  of size:  [132438. 132438. 132438. 132438.]\n",
      "stable rotation at rank: 907842  of size:  [132438. 132438. 132438. 132438.]\n",
      "stable rotation at rank: 913514  of size:  [175049. 175049. 175049. 175049.]\n",
      "stable rotation at rank: 914723  of size:  [588148. 588148. 588148. 588148.]\n",
      "stable rotation at rank: 934571  of size:  [787648. 787648. 787648. 787648.]\n",
      "stable rotation at rank: 937617  of size:  [892807. 892807. 892807. 892807.]\n",
      "stable rotation at rank: 940157  of size:  [398294. 398294. 398294. 398294.]\n",
      "stable rotation at rank: 950271  of size:  [692260. 692260. 692260. 692260.]\n",
      "stable rotation at rank: 962705  of size:  [56407. 56407. 56407. 56407.]\n",
      "stable rotation at rank: 966049  of size:  [430003. 430003. 430003. 430003.]\n",
      "stable rotation at rank: 973225  of size:  [284831. 284831. 284831. 284831.]\n",
      "stable rotation at rank: 982962  of size:  [343510. 343510. 343510. 343510.]\n",
      "stable rotation at rank: 986443  of size:  [274697. 274697. 274697. 274697.]\n",
      "stable rotation at rank: 1027473  of size:  [550143. 550143. 550143. 550143.]\n",
      "stable rotation at rank: 1031295  of size:  [740455. 740455. 740455. 740455.]\n",
      "stable rotation at rank: 1041799  of size:  [160909. 160909. 160909. 160909.]\n",
      "stable rotation at rank: 1042873  of size:  [198836. 198836. 198836. 198836.]\n",
      "stable rotation at rank: 1051264  of size:  [607635. 607635. 607635. 607635.]\n",
      "stable rotation at rank: 1055484  of size:  [928200. 928200. 928200. 928200.]\n",
      "stable rotation at rank: 1055485  of size:  [928200. 928200. 928200. 928200.]\n",
      "stable rotation at rank: 1061046  of size:  [822577. 822577. 822577. 822577.]\n",
      "stable rotation at rank: 1065150  of size:  [378886. 378886. 378886. 378886.]\n",
      "stable rotation at rank: 1069486  of size:  [415165. 415165. 415165. 415165.]\n",
      "stable rotation at rank: 1069487  of size:  [415165. 415165. 415165. 415165.]\n",
      "stable rotation at rank: 1072658  of size:  [665020. 665020. 665020. 665020.]\n",
      "stable rotation at rank: 1079330  of size:  [139405. 139405. 139405. 139405.]\n",
      "stable rotation at rank: 1079331  of size:  [139405. 139405. 139405. 139405.]\n",
      "stable rotation at rank: 1086085  of size:  [1042066. 1042066. 1042066. 1042066.]\n",
      "stable rotation at rank: 1087601  of size:  [343525. 343525. 343525. 343525.]\n",
      "stable rotation at rank: 1089464  of size:  [735697. 735697. 735697. 735697.]\n",
      "stable rotation at rank: 1098473  of size:  [127571. 127571. 127571. 127571.]\n",
      "stable rotation at rank: 1102241  of size:  [163606. 163606. 163606. 163606.]\n",
      "stable rotation at rank: 1108686  of size:  [437066. 437066. 437066. 437066.]\n",
      "stable rotation at rank: 1112404  of size:  [251524. 251524. 251524. 251524.]\n",
      "stable rotation at rank: 1119645  of size:  [316792. 316792. 316792. 316792.]\n",
      "stable rotation at rank: 1145341  of size:  [747967. 747967. 747967. 747967.]\n",
      "stable rotation at rank: 1148003  of size:  [128459. 128459. 128459. 128459.]\n",
      "stable rotation at rank: 1149201  of size:  [58378. 58378. 58378. 58378.]\n",
      "done!\n"
     ]
    }
   ],
   "source": [
    "t = triv.copy()\n",
    "whereWasFoundTriv = np.zeros(shape=(2**8,2**8,2**8))\n",
    "printTrivium(t);print(\"---\")\n",
    "deltas = np.zeros(4)\n",
    "for r in range(288*40):\n",
    "    t = triviumOneStep(t)\n",
    "    addTriviumFormulae(t,r)\n",
    "    y = np.roll(deltas,1)\n",
    "    y[0]=delta\n",
    "    if (deltas == y).all():\n",
    "        print(\"stable rotation at rank:\",r,\" of size: \",deltas)\n",
    "    deltas = y\n",
    "print(\"done!\")"
   ],
   "metadata": {
    "collapsed": false,
    "pycharm": {
     "name": "#%%\n"
    }
   }
  },
  {
   "cell_type": "code",
   "execution_count": null,
   "outputs": [
    {
     "name": "stdout",
     "output_type": "stream",
     "text": [
      ".............................................................................................................................................................................................................................................................................................111\n",
      "---\n"
     ]
    },
    {
     "name": "stderr",
     "output_type": "stream",
     "text": [
      " 43%|████▎     | 50057361/115200000 [13:02<16:49, 64498.98it/s]  "
     ]
    }
   ],
   "source": [
    "t = triv.copy()\n",
    "printTrivium(t);print(\"---\")\n",
    "wholeSet = {triv.tobytes()}\n",
    "def doIT(t,wholeSet):\n",
    "    for r in tqdm(range(288*400*1000)):\n",
    "        t = triviumOneStep(t)\n",
    "        tb = t.tobytes()\n",
    "        if tb in wholeSet:\n",
    "            print(\"loop found at round: \",r)\n",
    "            return t\n",
    "        wholeSet.add(tb)\n",
    "    print(\"not found after round: \",r)\n",
    "theTrivFound = doIT(t,wholeSet)\n",
    "print(theTrivFound)"
   ],
   "metadata": {
    "collapsed": false,
    "pycharm": {
     "name": "#%%\n",
     "is_executing": true
    }
   }
  },
  {
   "cell_type": "code",
   "execution_count": null,
   "outputs": [
    {
     "name": "stdout",
     "output_type": "stream",
     "text": [
      "s1=  0\n"
     ]
    },
    {
     "name": "stderr",
     "output_type": "stream",
     "text": [
      "  6%|▌         | 56449612/1000000000 [12:52<3:56:54, 66377.93it/s] "
     ]
    }
   ],
   "source": [
    "t = triv.copy()\n",
    "for s1 in (range(10)):\n",
    "    print(\"s1= \",s1)\n",
    "    for _ in tqdm(range(10**9)):\n",
    "        t = triviumOneStep(t)\n",
    "    print(t)\n",
    "    t10=t"
   ],
   "metadata": {
    "collapsed": false,
    "pycharm": {
     "name": "#%%\n",
     "is_executing": true
    }
   }
  },
  {
   "cell_type": "code",
   "execution_count": null,
   "outputs": [],
   "source": [
    "t=t10\n",
    "for r in tqdm(range(10**10)):\n",
    "    t = triviumOneStep(t)\n",
    "    if (t==t10).all() : print(\"t10 found round= \",r)\n",
    "print(\"done!\")\n",
    "t2p10 = t"
   ],
   "metadata": {
    "collapsed": false,
    "pycharm": {
     "name": "#%%\n",
     "is_executing": true
    }
   }
  },
  {
   "cell_type": "code",
   "execution_count": 15,
   "outputs": [
    {
     "name": "stdout",
     "output_type": "stream",
     "text": [
      "T\n"
     ]
    }
   ],
   "source": [],
   "metadata": {
    "collapsed": false,
    "pycharm": {
     "name": "#%%\n"
    }
   }
  },
  {
   "cell_type": "code",
   "execution_count": null,
   "outputs": [],
   "source": [],
   "metadata": {
    "collapsed": false,
    "pycharm": {
     "name": "#%%\n"
    }
   }
  }
 ],
 "metadata": {
  "kernelspec": {
   "display_name": "Python 3",
   "language": "python",
   "name": "python3"
  },
  "language_info": {
   "codemirror_mode": {
    "name": "ipython",
    "version": 2
   },
   "file_extension": ".py",
   "mimetype": "text/x-python",
   "name": "python",
   "nbconvert_exporter": "python",
   "pygments_lexer": "ipython2",
   "version": "2.7.6"
  }
 },
 "nbformat": 4,
 "nbformat_minor": 0
}